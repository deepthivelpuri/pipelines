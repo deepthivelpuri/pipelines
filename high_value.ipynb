{
 "cells": [
  {
   "cell_type": "code",
   "execution_count": 7,
   "id": "8bdaccaa",
   "metadata": {},
   "outputs": [],
   "source": [
    "import pandas as pd\n"
   ]
  },
  {
   "cell_type": "code",
   "execution_count": 8,
   "id": "892abfd4",
   "metadata": {},
   "outputs": [],
   "source": [
    "customers=pd.read_csv(r\"C:\\Users\\Deepthi V\\Documents\\day1\\contact_data.csv\")"
   ]
  },
  {
   "cell_type": "code",
   "execution_count": 9,
   "id": "0f238af2",
   "metadata": {},
   "outputs": [],
   "source": [
    "transactions=pd.read_csv(r\"C:\\Users\\Deepthi V\\Downloads\\transaction_data.csv\")"
   ]
  },
  {
   "cell_type": "code",
   "execution_count": 10,
   "id": "6f8878f8",
   "metadata": {},
   "outputs": [],
   "source": [
    "merged_data=pd.merge(customers,transactions,on='customer_id',how='inner')"
   ]
  },
  {
   "cell_type": "code",
   "execution_count": 11,
   "id": "4fdec05b",
   "metadata": {},
   "outputs": [
    {
     "name": "stdout",
     "output_type": "stream",
     "text": [
      "     customer_id              name                        email  \\\n",
      "0              1     Michelle Kidd           vayala@example.net   \n",
      "1              4    Kimberly Price    jessicaknight@example.com   \n",
      "2              5  Matthew Phillips        qwilliams@example.com   \n",
      "3              7      Louis Miller  patriciaelliott@example.org   \n",
      "4              7      Louis Miller  patriciaelliott@example.org   \n",
      "..           ...               ...                          ...   \n",
      "995          995    Deanna Johnson            ycook@example.org   \n",
      "996          995    Deanna Johnson            ycook@example.org   \n",
      "997          997      Jodi Simpson           eric24@example.org   \n",
      "998          998     Crystal Brown         pshaffer@example.net   \n",
      "999          998     Crystal Brown         pshaffer@example.net   \n",
      "\n",
      "               phone                                            address  \\\n",
      "0    +1 619-723-4258                        USNS Santiago, FPO AE 80872   \n",
      "1    +1 423-222-9779         1631 Alexis Meadows, Lake Amanda, CA 75179   \n",
      "2    +1 220-763-3522  2274 Williams Heights Suite 895, Andersonhaven...   \n",
      "3    +1 198-862-7105        02590 Marshall Well, Sheppardland, CT 88067   \n",
      "4    +1 198-862-7105        02590 Marshall Well, Sheppardland, CT 88067   \n",
      "..               ...                                                ...   \n",
      "995  +1 576-320-4824        601 Contreras Forges, Michaelfurt, KY 30733   \n",
      "996  +1 576-320-4824        601 Contreras Forges, Michaelfurt, KY 30733   \n",
      "997  +1 483-625-2940  2876 Tucker Road Suite 947, North Tommyborough...   \n",
      "998  +1 390-747-3088  095 Janice Forest Suite 570, Boltonmouth, DE 7...   \n",
      "999  +1 390-747-3088  095 Janice Forest Suite 570, Boltonmouth, DE 7...   \n",
      "\n",
      "    registration_date loyalty_status  transaction_id   amount  \\\n",
      "0          25-01-2025           Gold               8  2652.57   \n",
      "1          08-12-2024           Gold             427  1787.09   \n",
      "2          03-02-2024           Gold             452  1983.52   \n",
      "3          30-09-2024           Gold             470  3241.66   \n",
      "4          30-09-2024           Gold             857   697.57   \n",
      "..                ...            ...             ...      ...   \n",
      "995        01-11-2023         Silver             532   759.38   \n",
      "996        01-11-2023         Silver             617   821.18   \n",
      "997        18-04-2024         Bronze              45   480.64   \n",
      "998        30-08-2024         Bronze             304    73.71   \n",
      "999        30-08-2024         Bronze             886      NaN   \n",
      "\n",
      "        transaction_date product_category payment_method store_location  \n",
      "0    2025-04-19 14:46:00             Home    Credit Card       New York  \n",
      "1    2025-04-28 04:34:07           Beauty         PayPal        Chicago  \n",
      "2    2025-02-03 14:59:13           Sports         PayPal         Online  \n",
      "3    2025-05-15 15:17:05      Electronics         PayPal    Los Angeles  \n",
      "4    2025-06-13 12:03:42           Beauty     Debit Card        Chicago  \n",
      "..                   ...              ...            ...            ...  \n",
      "995  2025-03-14 16:56:22             Home         PayPal       New York  \n",
      "996  2025-01-23 07:39:19      Electronics     Debit Card          Miami  \n",
      "997  2025-01-06 08:27:59             Home    Credit Card    Los Angeles  \n",
      "998  2025-01-27 05:33:22             Home     Debit Card        Chicago  \n",
      "999  2025-03-16 15:42:17           Beauty     Debit Card         Online  \n",
      "\n",
      "[1000 rows x 13 columns]\n"
     ]
    }
   ],
   "source": [
    "print(merged_data)"
   ]
  },
  {
   "cell_type": "code",
   "execution_count": 18,
   "id": "c800c4cf",
   "metadata": {},
   "outputs": [
    {
     "name": "stdout",
     "output_type": "stream",
     "text": [
      "<class 'pandas.core.frame.DataFrame'>\n",
      "RangeIndex: 1000 entries, 0 to 999\n",
      "Data columns (total 13 columns):\n",
      " #   Column             Non-Null Count  Dtype  \n",
      "---  ------             --------------  -----  \n",
      " 0   customer_id        1000 non-null   int64  \n",
      " 1   name               1000 non-null   object \n",
      " 2   email              1000 non-null   object \n",
      " 3   phone              1000 non-null   object \n",
      " 4   address            1000 non-null   object \n",
      " 5   registration_date  1000 non-null   object \n",
      " 6   loyalty_status     1000 non-null   object \n",
      " 7   transaction_id     1000 non-null   int64  \n",
      " 8   amount             950 non-null    float64\n",
      " 9   transaction_date   1000 non-null   object \n",
      " 10  product_category   1000 non-null   object \n",
      " 11  payment_method     1000 non-null   object \n",
      " 12  store_location     1000 non-null   object \n",
      "dtypes: float64(1), int64(2), object(10)\n",
      "memory usage: 101.7+ KB\n"
     ]
    }
   ],
   "source": [
    "merged_data.info()"
   ]
  },
  {
   "cell_type": "code",
   "execution_count": 13,
   "id": "d20b37ff",
   "metadata": {},
   "outputs": [],
   "source": [
    "mean=merged_data['amount'].mean()"
   ]
  },
  {
   "cell_type": "code",
   "execution_count": 15,
   "id": "0efd5165",
   "metadata": {},
   "outputs": [],
   "source": [
    "high_value_trans=merged_data[(merged_data['amount']>1000 )| (merged_data['amount']>mean)]"
   ]
  },
  {
   "cell_type": "code",
   "execution_count": 19,
   "id": "6c810856",
   "metadata": {},
   "outputs": [
    {
     "name": "stdout",
     "output_type": "stream",
     "text": [
      "<class 'pandas.core.frame.DataFrame'>\n",
      "Index: 770 entries, 0 to 994\n",
      "Data columns (total 13 columns):\n",
      " #   Column             Non-Null Count  Dtype  \n",
      "---  ------             --------------  -----  \n",
      " 0   customer_id        770 non-null    int64  \n",
      " 1   name               770 non-null    object \n",
      " 2   email              770 non-null    object \n",
      " 3   phone              770 non-null    object \n",
      " 4   address            770 non-null    object \n",
      " 5   registration_date  770 non-null    object \n",
      " 6   loyalty_status     770 non-null    object \n",
      " 7   transaction_id     770 non-null    int64  \n",
      " 8   amount             770 non-null    float64\n",
      " 9   transaction_date   770 non-null    object \n",
      " 10  product_category   770 non-null    object \n",
      " 11  payment_method     770 non-null    object \n",
      " 12  store_location     770 non-null    object \n",
      "dtypes: float64(1), int64(2), object(10)\n",
      "memory usage: 84.2+ KB\n"
     ]
    }
   ],
   "source": [
    "high_value_trans.info()"
   ]
  },
  {
   "cell_type": "code",
   "execution_count": 20,
   "id": "6b60db45",
   "metadata": {},
   "outputs": [],
   "source": [
    "high_value_trans.to_csv('high_value_trans.csv')"
   ]
  }
 ],
 "metadata": {
  "kernelspec": {
   "display_name": "venv",
   "language": "python",
   "name": "python3"
  },
  "language_info": {
   "codemirror_mode": {
    "name": "ipython",
    "version": 3
   },
   "file_extension": ".py",
   "mimetype": "text/x-python",
   "name": "python",
   "nbconvert_exporter": "python",
   "pygments_lexer": "ipython3",
   "version": "3.10.11"
  }
 },
 "nbformat": 4,
 "nbformat_minor": 5
}
