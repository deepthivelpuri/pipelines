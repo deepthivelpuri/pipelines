{
 "cells": [
  {
   "cell_type": "code",
   "execution_count": 271,
   "id": "80909daa",
   "metadata": {},
   "outputs": [],
   "source": [
    "import pandas as pd\n"
   ]
  },
  {
   "cell_type": "code",
   "execution_count": 272,
   "id": "307f2805",
   "metadata": {},
   "outputs": [],
   "source": [
    "customer_info=pd.read_csv(r\"C:\\Users\\Deepthi V\\Downloads\\us_customer_data 1.csv\")"
   ]
  },
  {
   "cell_type": "code",
   "execution_count": 273,
   "id": "c318b46c",
   "metadata": {},
   "outputs": [
    {
     "name": "stdout",
     "output_type": "stream",
     "text": [
      "<class 'pandas.core.frame.DataFrame'>\n",
      "RangeIndex: 1000 entries, 0 to 999\n",
      "Data columns (total 7 columns):\n",
      " #   Column             Non-Null Count  Dtype \n",
      "---  ------             --------------  ----- \n",
      " 0   customer_id        1000 non-null   int64 \n",
      " 1   name               1000 non-null   object\n",
      " 2   email              950 non-null    object\n",
      " 3   phone              984 non-null    object\n",
      " 4   address            1000 non-null   object\n",
      " 5   registration_date  1000 non-null   object\n",
      " 6   loyalty_status     1000 non-null   object\n",
      "dtypes: int64(1), object(6)\n",
      "memory usage: 54.8+ KB\n"
     ]
    }
   ],
   "source": [
    "customer_info.info()"
   ]
  },
  {
   "cell_type": "code",
   "execution_count": 274,
   "id": "d69c7cd3",
   "metadata": {},
   "outputs": [
    {
     "data": {
      "text/plain": [
       "<bound method DataFrame.drop_duplicates of      customer_id              name                        email         phone  \\\n",
       "0              1     Michelle Kidd           vayala@example.net  619-723-4258   \n",
       "1              2       Brad Newton  taylorcatherine@example.net  537-674-1158   \n",
       "2              3      Larry Torres         dsanchez@example.net  810-256-4505   \n",
       "3              4    Kimberly Price    jessicaknight@example.com  423-222-9779   \n",
       "4              5  Matthew Phillips        qwilliams@example.com  220-763-3522   \n",
       "..           ...               ...                          ...           ...   \n",
       "995          996    Jerry Mcdaniel       walkerlisa@example.net  638-989-9441   \n",
       "996          997      Jodi Simpson           eric24@example.org  483-625-2940   \n",
       "997          998     Crystal Brown         pshaffer@example.net  390-747-3088   \n",
       "998          999    Gregory Duarte    caitlindunlap@example.org  257-409-8196   \n",
       "999         1000       Jason Walls        michael42@example.com  692-333-6880   \n",
       "\n",
       "                                               address registration_date  \\\n",
       "0                          USNS Santiago, FPO AE 80872        25-01-2025   \n",
       "1    38783 Oliver Street, West Kristenborough, MT 9...        13-07-2023   \n",
       "2       6845 Steele Turnpike, West Erikabury, UT 37487        18-08-2023   \n",
       "3           1631 Alexis Meadows, Lake Amanda, CA 75179        08-12-2024   \n",
       "4    2274 Williams Heights Suite 895, Andersonhaven...        03-02-2024   \n",
       "..                                                 ...               ...   \n",
       "995           34746 Smith Gateway, New Sarah, AS 12715        10-02-2025   \n",
       "996  2876 Tucker Road Suite 947, North Tommyborough...        18-04-2024   \n",
       "997  095 Janice Forest Suite 570, Boltonmouth, DE 7...        30-08-2024   \n",
       "998                   Unit 6377 Box 7662, DPO AP 03300        16-05-2024   \n",
       "999             95002 Bruce Rue, Camachoport, MH 58723        10-12-2024   \n",
       "\n",
       "    loyalty_status  \n",
       "0             Gold  \n",
       "1           Silver  \n",
       "2           Bronze  \n",
       "3             Gold  \n",
       "4             Gold  \n",
       "..             ...  \n",
       "995         Silver  \n",
       "996         Bronze  \n",
       "997         Bronze  \n",
       "998           Gold  \n",
       "999         Bronze  \n",
       "\n",
       "[1000 rows x 7 columns]>"
      ]
     },
     "execution_count": 274,
     "metadata": {},
     "output_type": "execute_result"
    }
   ],
   "source": [
    "customer_info.drop_duplicates"
   ]
  },
  {
   "cell_type": "code",
   "execution_count": 275,
   "id": "f6413e0d",
   "metadata": {},
   "outputs": [
    {
     "name": "stdout",
     "output_type": "stream",
     "text": [
      "customer_id 0\n",
      "name 0\n",
      "email 50\n",
      "phone 16\n",
      "address 0\n",
      "registration_date 0\n",
      "loyalty_status 0\n"
     ]
    }
   ],
   "source": [
    "for col in customer_info.columns:\n",
    "    print(col,customer_info[col].isnull().sum())\n"
   ]
  },
  {
   "cell_type": "code",
   "execution_count": 276,
   "id": "2c10d0b0",
   "metadata": {},
   "outputs": [],
   "source": [
    "customer_info['phone']=customer_info['phone'].fillna('0000000000')"
   ]
  },
  {
   "cell_type": "code",
   "execution_count": 277,
   "id": "8d2e8e7f",
   "metadata": {},
   "outputs": [],
   "source": [
    "\n",
    "# to assign  email not just nan \n",
    "#df1['Email'] = df1['name'].str.lower() + '.@sample.com'\n",
    "customer_info['email']=customer_info['email'].fillna(customer_info['name'].str.lower() + '.@sample.com')\n"
   ]
  },
  {
   "cell_type": "code",
   "execution_count": 278,
   "id": "d8c329cd",
   "metadata": {},
   "outputs": [],
   "source": [
    "customer_info['email'] = customer_info['email'].str.replace(' ', '', regex=False)\n"
   ]
  },
  {
   "cell_type": "code",
   "execution_count": 279,
   "id": "4a620253",
   "metadata": {},
   "outputs": [
    {
     "data": {
      "text/html": [
       "<div>\n",
       "<style scoped>\n",
       "    .dataframe tbody tr th:only-of-type {\n",
       "        vertical-align: middle;\n",
       "    }\n",
       "\n",
       "    .dataframe tbody tr th {\n",
       "        vertical-align: top;\n",
       "    }\n",
       "\n",
       "    .dataframe thead th {\n",
       "        text-align: right;\n",
       "    }\n",
       "</style>\n",
       "<table border=\"1\" class=\"dataframe\">\n",
       "  <thead>\n",
       "    <tr style=\"text-align: right;\">\n",
       "      <th></th>\n",
       "      <th>customer_id</th>\n",
       "      <th>name</th>\n",
       "      <th>email</th>\n",
       "      <th>phone</th>\n",
       "      <th>address</th>\n",
       "      <th>registration_date</th>\n",
       "      <th>loyalty_status</th>\n",
       "    </tr>\n",
       "  </thead>\n",
       "  <tbody>\n",
       "    <tr>\n",
       "      <th>498</th>\n",
       "      <td>499</td>\n",
       "      <td>Shane Warner</td>\n",
       "      <td>shanewarner.@sample.com</td>\n",
       "      <td>335-327-9805</td>\n",
       "      <td>8106 Cory Green Apt. 982, South Katherinefort,...</td>\n",
       "      <td>28-06-2024</td>\n",
       "      <td>Bronze</td>\n",
       "    </tr>\n",
       "  </tbody>\n",
       "</table>\n",
       "</div>"
      ],
      "text/plain": [
       "     customer_id          name                    email         phone  \\\n",
       "498          499  Shane Warner  shanewarner.@sample.com  335-327-9805   \n",
       "\n",
       "                                               address registration_date  \\\n",
       "498  8106 Cory Green Apt. 982, South Katherinefort,...        28-06-2024   \n",
       "\n",
       "    loyalty_status  \n",
       "498         Bronze  "
      ]
     },
     "execution_count": 279,
     "metadata": {},
     "output_type": "execute_result"
    }
   ],
   "source": [
    "customer_info[customer_info['customer_id']==499]"
   ]
  },
  {
   "cell_type": "code",
   "execution_count": 280,
   "id": "446de47b",
   "metadata": {},
   "outputs": [
    {
     "data": {
      "text/html": [
       "<div>\n",
       "<style scoped>\n",
       "    .dataframe tbody tr th:only-of-type {\n",
       "        vertical-align: middle;\n",
       "    }\n",
       "\n",
       "    .dataframe tbody tr th {\n",
       "        vertical-align: top;\n",
       "    }\n",
       "\n",
       "    .dataframe thead th {\n",
       "        text-align: right;\n",
       "    }\n",
       "</style>\n",
       "<table border=\"1\" class=\"dataframe\">\n",
       "  <thead>\n",
       "    <tr style=\"text-align: right;\">\n",
       "      <th></th>\n",
       "      <th>customer_id</th>\n",
       "      <th>name</th>\n",
       "      <th>email</th>\n",
       "      <th>phone</th>\n",
       "      <th>address</th>\n",
       "      <th>registration_date</th>\n",
       "      <th>loyalty_status</th>\n",
       "    </tr>\n",
       "  </thead>\n",
       "  <tbody>\n",
       "  </tbody>\n",
       "</table>\n",
       "</div>"
      ],
      "text/plain": [
       "Empty DataFrame\n",
       "Columns: [customer_id, name, email, phone, address, registration_date, loyalty_status]\n",
       "Index: []"
      ]
     },
     "execution_count": 280,
     "metadata": {},
     "output_type": "execute_result"
    }
   ],
   "source": [
    "customer_info[customer_info.duplicated()]"
   ]
  },
  {
   "cell_type": "code",
   "execution_count": 281,
   "id": "468802c7",
   "metadata": {},
   "outputs": [],
   "source": [
    "customer_info['phone'] = customer_info['phone'].astype(str).str.replace(r'[^\\d]', '', regex=True)"
   ]
  },
  {
   "cell_type": "code",
   "execution_count": 289,
   "id": "d5c3c502",
   "metadata": {},
   "outputs": [],
   "source": [
    "customer_info.to_csv('cleaned_customers_data.csv',index=False)"
   ]
  },
  {
   "cell_type": "code",
   "execution_count": 287,
   "id": "d01f8054",
   "metadata": {},
   "outputs": [
    {
     "data": {
      "text/html": [
       "<div>\n",
       "<style scoped>\n",
       "    .dataframe tbody tr th:only-of-type {\n",
       "        vertical-align: middle;\n",
       "    }\n",
       "\n",
       "    .dataframe tbody tr th {\n",
       "        vertical-align: top;\n",
       "    }\n",
       "\n",
       "    .dataframe thead th {\n",
       "        text-align: right;\n",
       "    }\n",
       "</style>\n",
       "<table border=\"1\" class=\"dataframe\">\n",
       "  <thead>\n",
       "    <tr style=\"text-align: right;\">\n",
       "      <th></th>\n",
       "      <th>customer_id</th>\n",
       "      <th>name</th>\n",
       "      <th>email</th>\n",
       "      <th>phone</th>\n",
       "      <th>address</th>\n",
       "      <th>registration_date</th>\n",
       "      <th>loyalty_status</th>\n",
       "    </tr>\n",
       "  </thead>\n",
       "  <tbody>\n",
       "    <tr>\n",
       "      <th>306</th>\n",
       "      <td>307</td>\n",
       "      <td>Courtney Reed</td>\n",
       "      <td>xhopkins@example.net</td>\n",
       "      <td>0000000000</td>\n",
       "      <td>8858 Joshua Square Suite 148, Johnbury, OH 85434</td>\n",
       "      <td>04-09-2024</td>\n",
       "      <td>Gold</td>\n",
       "    </tr>\n",
       "  </tbody>\n",
       "</table>\n",
       "</div>"
      ],
      "text/plain": [
       "     customer_id           name                 email       phone  \\\n",
       "306          307  Courtney Reed  xhopkins@example.net  0000000000   \n",
       "\n",
       "                                              address registration_date  \\\n",
       "306  8858 Joshua Square Suite 148, Johnbury, OH 85434        04-09-2024   \n",
       "\n",
       "    loyalty_status  \n",
       "306           Gold  "
      ]
     },
     "execution_count": 287,
     "metadata": {},
     "output_type": "execute_result"
    }
   ],
   "source": [
    "customer_info[customer_info['customer_id']==307]"
   ]
  },
  {
   "cell_type": "code",
   "execution_count": 285,
   "id": "e0bde460",
   "metadata": {},
   "outputs": [
    {
     "data": {
      "text/html": [
       "<div>\n",
       "<style scoped>\n",
       "    .dataframe tbody tr th:only-of-type {\n",
       "        vertical-align: middle;\n",
       "    }\n",
       "\n",
       "    .dataframe tbody tr th {\n",
       "        vertical-align: top;\n",
       "    }\n",
       "\n",
       "    .dataframe thead th {\n",
       "        text-align: right;\n",
       "    }\n",
       "</style>\n",
       "<table border=\"1\" class=\"dataframe\">\n",
       "  <thead>\n",
       "    <tr style=\"text-align: right;\">\n",
       "      <th></th>\n",
       "      <th>customer_id</th>\n",
       "      <th>name</th>\n",
       "      <th>email</th>\n",
       "      <th>phone</th>\n",
       "      <th>address</th>\n",
       "      <th>registration_date</th>\n",
       "      <th>loyalty_status</th>\n",
       "    </tr>\n",
       "  </thead>\n",
       "  <tbody>\n",
       "    <tr>\n",
       "      <th>0</th>\n",
       "      <td>1</td>\n",
       "      <td>Michelle Kidd</td>\n",
       "      <td>vayala@example.net</td>\n",
       "      <td>6197234258</td>\n",
       "      <td>USNS Santiago, FPO AE 80872</td>\n",
       "      <td>25-01-2025</td>\n",
       "      <td>Gold</td>\n",
       "    </tr>\n",
       "    <tr>\n",
       "      <th>1</th>\n",
       "      <td>2</td>\n",
       "      <td>Brad Newton</td>\n",
       "      <td>taylorcatherine@example.net</td>\n",
       "      <td>5376741158</td>\n",
       "      <td>38783 Oliver Street, West Kristenborough, MT 9...</td>\n",
       "      <td>13-07-2023</td>\n",
       "      <td>Silver</td>\n",
       "    </tr>\n",
       "    <tr>\n",
       "      <th>2</th>\n",
       "      <td>3</td>\n",
       "      <td>Larry Torres</td>\n",
       "      <td>dsanchez@example.net</td>\n",
       "      <td>8102564505</td>\n",
       "      <td>6845 Steele Turnpike, West Erikabury, UT 37487</td>\n",
       "      <td>18-08-2023</td>\n",
       "      <td>Bronze</td>\n",
       "    </tr>\n",
       "    <tr>\n",
       "      <th>3</th>\n",
       "      <td>4</td>\n",
       "      <td>Kimberly Price</td>\n",
       "      <td>jessicaknight@example.com</td>\n",
       "      <td>4232229779</td>\n",
       "      <td>1631 Alexis Meadows, Lake Amanda, CA 75179</td>\n",
       "      <td>08-12-2024</td>\n",
       "      <td>Gold</td>\n",
       "    </tr>\n",
       "    <tr>\n",
       "      <th>4</th>\n",
       "      <td>5</td>\n",
       "      <td>Matthew Phillips</td>\n",
       "      <td>qwilliams@example.com</td>\n",
       "      <td>2207633522</td>\n",
       "      <td>2274 Williams Heights Suite 895, Andersonhaven...</td>\n",
       "      <td>03-02-2024</td>\n",
       "      <td>Gold</td>\n",
       "    </tr>\n",
       "    <tr>\n",
       "      <th>...</th>\n",
       "      <td>...</td>\n",
       "      <td>...</td>\n",
       "      <td>...</td>\n",
       "      <td>...</td>\n",
       "      <td>...</td>\n",
       "      <td>...</td>\n",
       "      <td>...</td>\n",
       "    </tr>\n",
       "    <tr>\n",
       "      <th>995</th>\n",
       "      <td>996</td>\n",
       "      <td>Jerry Mcdaniel</td>\n",
       "      <td>walkerlisa@example.net</td>\n",
       "      <td>6389899441</td>\n",
       "      <td>34746 Smith Gateway, New Sarah, AS 12715</td>\n",
       "      <td>10-02-2025</td>\n",
       "      <td>Silver</td>\n",
       "    </tr>\n",
       "    <tr>\n",
       "      <th>996</th>\n",
       "      <td>997</td>\n",
       "      <td>Jodi Simpson</td>\n",
       "      <td>eric24@example.org</td>\n",
       "      <td>4836252940</td>\n",
       "      <td>2876 Tucker Road Suite 947, North Tommyborough...</td>\n",
       "      <td>18-04-2024</td>\n",
       "      <td>Bronze</td>\n",
       "    </tr>\n",
       "    <tr>\n",
       "      <th>997</th>\n",
       "      <td>998</td>\n",
       "      <td>Crystal Brown</td>\n",
       "      <td>pshaffer@example.net</td>\n",
       "      <td>3907473088</td>\n",
       "      <td>095 Janice Forest Suite 570, Boltonmouth, DE 7...</td>\n",
       "      <td>30-08-2024</td>\n",
       "      <td>Bronze</td>\n",
       "    </tr>\n",
       "    <tr>\n",
       "      <th>998</th>\n",
       "      <td>999</td>\n",
       "      <td>Gregory Duarte</td>\n",
       "      <td>caitlindunlap@example.org</td>\n",
       "      <td>2574098196</td>\n",
       "      <td>Unit 6377 Box 7662, DPO AP 03300</td>\n",
       "      <td>16-05-2024</td>\n",
       "      <td>Gold</td>\n",
       "    </tr>\n",
       "    <tr>\n",
       "      <th>999</th>\n",
       "      <td>1000</td>\n",
       "      <td>Jason Walls</td>\n",
       "      <td>michael42@example.com</td>\n",
       "      <td>6923336880</td>\n",
       "      <td>95002 Bruce Rue, Camachoport, MH 58723</td>\n",
       "      <td>10-12-2024</td>\n",
       "      <td>Bronze</td>\n",
       "    </tr>\n",
       "  </tbody>\n",
       "</table>\n",
       "<p>1000 rows × 7 columns</p>\n",
       "</div>"
      ],
      "text/plain": [
       "     customer_id              name                        email       phone  \\\n",
       "0              1     Michelle Kidd           vayala@example.net  6197234258   \n",
       "1              2       Brad Newton  taylorcatherine@example.net  5376741158   \n",
       "2              3      Larry Torres         dsanchez@example.net  8102564505   \n",
       "3              4    Kimberly Price    jessicaknight@example.com  4232229779   \n",
       "4              5  Matthew Phillips        qwilliams@example.com  2207633522   \n",
       "..           ...               ...                          ...         ...   \n",
       "995          996    Jerry Mcdaniel       walkerlisa@example.net  6389899441   \n",
       "996          997      Jodi Simpson           eric24@example.org  4836252940   \n",
       "997          998     Crystal Brown         pshaffer@example.net  3907473088   \n",
       "998          999    Gregory Duarte    caitlindunlap@example.org  2574098196   \n",
       "999         1000       Jason Walls        michael42@example.com  6923336880   \n",
       "\n",
       "                                               address registration_date  \\\n",
       "0                          USNS Santiago, FPO AE 80872        25-01-2025   \n",
       "1    38783 Oliver Street, West Kristenborough, MT 9...        13-07-2023   \n",
       "2       6845 Steele Turnpike, West Erikabury, UT 37487        18-08-2023   \n",
       "3           1631 Alexis Meadows, Lake Amanda, CA 75179        08-12-2024   \n",
       "4    2274 Williams Heights Suite 895, Andersonhaven...        03-02-2024   \n",
       "..                                                 ...               ...   \n",
       "995           34746 Smith Gateway, New Sarah, AS 12715        10-02-2025   \n",
       "996  2876 Tucker Road Suite 947, North Tommyborough...        18-04-2024   \n",
       "997  095 Janice Forest Suite 570, Boltonmouth, DE 7...        30-08-2024   \n",
       "998                   Unit 6377 Box 7662, DPO AP 03300        16-05-2024   \n",
       "999             95002 Bruce Rue, Camachoport, MH 58723        10-12-2024   \n",
       "\n",
       "    loyalty_status  \n",
       "0             Gold  \n",
       "1           Silver  \n",
       "2           Bronze  \n",
       "3             Gold  \n",
       "4             Gold  \n",
       "..             ...  \n",
       "995         Silver  \n",
       "996         Bronze  \n",
       "997         Bronze  \n",
       "998           Gold  \n",
       "999         Bronze  \n",
       "\n",
       "[1000 rows x 7 columns]"
      ]
     },
     "execution_count": 285,
     "metadata": {},
     "output_type": "execute_result"
    }
   ],
   "source": [
    "customer_info"
   ]
  }
 ],
 "metadata": {
  "kernelspec": {
   "display_name": "venv",
   "language": "python",
   "name": "python3"
  },
  "language_info": {
   "codemirror_mode": {
    "name": "ipython",
    "version": 3
   },
   "file_extension": ".py",
   "mimetype": "text/x-python",
   "name": "python",
   "nbconvert_exporter": "python",
   "pygments_lexer": "ipython3",
   "version": "3.10.11"
  }
 },
 "nbformat": 4,
 "nbformat_minor": 5
}
